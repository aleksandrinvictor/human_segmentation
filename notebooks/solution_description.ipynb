{
 "cells": [
  {
   "cell_type": "code",
   "execution_count": 2,
   "id": "4a65d720",
   "metadata": {},
   "outputs": [],
   "source": [
    "from IPython.display import Image\n",
    "from IPython.core.display import HTML"
   ]
  },
  {
   "cell_type": "markdown",
   "id": "5c2e50de",
   "metadata": {},
   "source": [
    "### Обучение моделей"
   ]
  },
  {
   "cell_type": "markdown",
   "id": "9f2ef8ea",
   "metadata": {},
   "source": [
    "В процессе выполнения задания были обучены 3 модели:\n",
    "1. unet\n",
    "2. unet c аугментацией данных\n",
    "3. unet с feature pyramid attention блоком (https://arxiv.org/abs/1805.10180)\n",
    "\n",
    "Во всех моделях использовался энкодер resnet34, предобученный на imagenet"
   ]
  },
  {
   "cell_type": "markdown",
   "id": "c7ebaeed",
   "metadata": {},
   "source": [
    "**Пайплайн обучения моделей:**\n",
    "    \n",
    "input_image (240 x 320) ⟶ resize (224 x 224) ((256 x 256) для unet c fpa блоком) ⟶ augmentations (только для 2 и 3) ⟶ normalize ⟶ model ⟶ loss"
   ]
  },
  {
   "cell_type": "markdown",
   "id": "ee33726a",
   "metadata": {},
   "source": [
    "**Аугментации:**\n",
    "\n",
    "    1. HorizontalFlip\n",
    "    2. Rotate на +- 30 градусов\n",
    "    3. RandomBrightness\n",
    "    4. RandomContrast"
   ]
  },
  {
   "cell_type": "markdown",
   "id": "94b59599",
   "metadata": {},
   "source": [
    "**Детали**\n",
    "\n",
    "- Batch size: 24\n",
    "- Loss: 0.5 * BCE + 0.5 * Dice\n",
    "- Optimizer: Adam, lr = 1e-4\n",
    "- Scheduler: ReduceLROnPlateau, patience: 5, factor: 0.25\n",
    "- EarlyStopping: patience: 10"
   ]
  },
  {
   "cell_type": "markdown",
   "id": "f6d3353f",
   "metadata": {},
   "source": [
    "**Графики**"
   ]
  },
  {
   "cell_type": "code",
   "execution_count": 3,
   "id": "a1cb85b3",
   "metadata": {},
   "outputs": [
    {
     "data": {
      "text/html": [
       "<img src=\"train_loss.png\"/>"
      ],
      "text/plain": [
       "<IPython.core.display.Image object>"
      ]
     },
     "execution_count": 3,
     "metadata": {},
     "output_type": "execute_result"
    }
   ],
   "source": [
    "Image(url= \"train_loss.png\")"
   ]
  },
  {
   "cell_type": "code",
   "execution_count": 4,
   "id": "658f3c9e",
   "metadata": {},
   "outputs": [
    {
     "data": {
      "text/html": [
       "<img src=\"val_loss.png\"/>"
      ],
      "text/plain": [
       "<IPython.core.display.Image object>"
      ]
     },
     "execution_count": 4,
     "metadata": {},
     "output_type": "execute_result"
    }
   ],
   "source": [
    "Image(url= \"val_loss.png\")"
   ]
  },
  {
   "cell_type": "code",
   "execution_count": 5,
   "id": "d9a23b5f",
   "metadata": {},
   "outputs": [
    {
     "data": {
      "text/html": [
       "<img src=\"val_dice_05.png\"/>"
      ],
      "text/plain": [
       "<IPython.core.display.Image object>"
      ]
     },
     "execution_count": 5,
     "metadata": {},
     "output_type": "execute_result"
    }
   ],
   "source": [
    "Image(url= \"val_dice_05.png\")"
   ]
  },
  {
   "cell_type": "code",
   "execution_count": 6,
   "id": "441f31e1",
   "metadata": {},
   "outputs": [
    {
     "data": {
      "text/html": [
       "<img src=\"val_iou_05.png\"/>"
      ],
      "text/plain": [
       "<IPython.core.display.Image object>"
      ]
     },
     "execution_count": 6,
     "metadata": {},
     "output_type": "execute_result"
    }
   ],
   "source": [
    "Image(url= \"val_iou_05.png\")"
   ]
  },
  {
   "cell_type": "markdown",
   "id": "5bddeb4c",
   "metadata": {},
   "source": [
    "**Метрики на валидации**\n",
    "\n",
    "1. unet:\n",
    "    dice: 0.9777769838319353\n",
    "\n",
    "2. unet_augs:\n",
    "    dice: 0.9799017195233011\n",
    "\n",
    "3. unet_fpa:\n",
    "    dice: 0.9797497905605353"
   ]
  },
  {
   "cell_type": "code",
   "execution_count": null,
   "id": "fe994032",
   "metadata": {},
   "outputs": [],
   "source": []
  }
 ],
 "metadata": {
  "kernelspec": {
   "display_name": "Python 3",
   "language": "python",
   "name": "python3"
  },
  "language_info": {
   "codemirror_mode": {
    "name": "ipython",
    "version": 3
   },
   "file_extension": ".py",
   "mimetype": "text/x-python",
   "name": "python",
   "nbconvert_exporter": "python",
   "pygments_lexer": "ipython3",
   "version": "3.7.7"
  }
 },
 "nbformat": 4,
 "nbformat_minor": 5
}
